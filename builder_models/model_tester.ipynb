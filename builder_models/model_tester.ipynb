{
 "cells": [
  {
   "cell_type": "code",
   "execution_count": null,
   "metadata": {},
   "outputs": [],
   "source": [
    "import pandas as pd\n",
    "from sklearn.model_selection import train_test_split\n",
    "from sklearn.linear_model import LinearRegression\n",
    "from sklearn.preprocessing import PolynomialFeatures\n",
    "from sklearn.pipeline import make_pipeline\n",
    "import numpy as np\n",
    "import matplotlib.pyplot as plt\n",
    "import yfinance as yf\n",
    "import ccxt\n",
    "\n",
    "# # Load the dataset using pandas\n",
    "# data1 = pd.read_csv('../datasets/training_dataset.csv')\n",
    "# data = pd.read_csv('../datasets/testing_dataset.csv')\n",
    "\n",
    "# Collecting stock historical data from yahoo\n",
    "ticker = \"BTC-USD\"\n",
    "start_date = \"2018-02-01\"\n",
    "end_date = \"2022-01-01\"\n",
    "\n",
    "# Download historical data\n",
    "data = yf.download(ticker, start=start_date, end=end_date)\n",
    "data_test = yf.download(ticker, start=\"2022-02-01\", end=\"2023-01-01\")\n",
    "# Display the first few rows of the dataset for inspection\n",
    "print(data)\n",
    "\n"
   ]
  },
  {
   "cell_type": "code",
   "execution_count": null,
   "metadata": {},
   "outputs": [],
   "source": [
    "X_features = ['Open', \"Volume\"]\n",
    "target_column = 'Close'\n",
    "\n",
    "# Extract features (X_train) and target (y_train)\n",
    "X_train = data[X_features]\n",
    "y_train = data[target_column]\n",
    "\n",
    "# Split the data into training and testing sets\n",
    "X_test = data_test[X_features]\n",
    "y_test = data_test[target_column]\n",
    "\n",
    "# Display the shape of the training and testing sets\n",
    "print(\"\\nShape of X_train:\", X_train.shape)\n",
    "print(\"Shape of X_test:\", X_test.shape)\n",
    "print(\"Shape of y_train:\", y_train.shape)\n",
    "print(\"Shape of y_test:\", y_test.shape)"
   ]
  },
  {
   "cell_type": "code",
   "execution_count": null,
   "metadata": {},
   "outputs": [],
   "source": [
    "fig, axs = plt.subplots(2, figsize=(12, 8))\n",
    "\n",
    "axs[0].scatter(X_train['Open'], y_train)\n",
    "axs[0].set_title('Open vs Close')\n",
    "\n",
    "axs[1].scatter(X_train['Volume'], y_train)\n",
    "axs[1].set_title('Volumeto vs Close')\n",
    "\n",
    "plt.tight_layout()\n",
    "plt.show()"
   ]
  },
  {
   "cell_type": "code",
   "execution_count": null,
   "metadata": {},
   "outputs": [],
   "source": [
    "linear_model = LinearRegression()\n",
    "linear_model.fit(X_train, y_train) "
   ]
  },
  {
   "cell_type": "code",
   "execution_count": null,
   "metadata": {},
   "outputs": [],
   "source": [
    "b = linear_model.intercept_\n",
    "w = linear_model.coef_\n",
    "print(f\"w = {w}, b = {b}\")"
   ]
  },
  {
   "cell_type": "code",
   "execution_count": null,
   "metadata": {},
   "outputs": [],
   "source": [
    "from sklearn.metrics import mean_squared_error\n",
    "\n",
    "predictions = linear_model.predict(X_test).tolist()\n",
    "\n",
    "time_column = data_test.index.tolist()\n",
    "# Plotting the actual values\n",
    "plt.figure(figsize=(10, 6))\n",
    "plt.plot(time_column,y_test, label='Actual', marker='o')\n",
    "\n",
    "# Plotting the predicted values\n",
    "plt.plot(time_column,predictions, label='Predicted', marker='x')\n",
    "\n",
    "\n",
    "train_mse = mean_squared_error(y_test, predictions)\n",
    "print(f\"Training MSE: {train_mse}\")\n",
    "plt.show()"
   ]
  },
  {
   "cell_type": "code",
   "execution_count": null,
   "metadata": {},
   "outputs": [],
   "source": [
    "poly_features = PolynomialFeatures(2)\n",
    "X_train_poly = poly_features.fit_transform(X_train)\n",
    "\n",
    "# Create and fit the quadratic regression model\n",
    "quadratic_model = make_pipeline(PolynomialFeatures(2), LinearRegression())\n",
    "quadratic_model.fit(X_train, y_train)\n",
    "\n",
    "predictions = quadratic_model.predict(X_test).tolist()\n",
    "\n",
    "time_column =data_test.index.tolist()\n",
    "\n",
    "# Plotting the actual values\n",
    "plt.figure(figsize=(10, 6))\n",
    "plt.plot(time_column, y_test, label='Actual', marker='o')\n",
    "\n",
    "# Plotting the predicted values\n",
    "plt.plot(time_column, predictions, label='Predicted', marker='x')\n",
    "\n",
    "\n",
    "train_mse = mean_squared_error(y_test, predictions)\n",
    "print(f\"Training MSE for quadratic polynomial: {train_mse}\")\n",
    "plt.show()"
   ]
  },
  {
   "cell_type": "code",
   "execution_count": null,
   "metadata": {},
   "outputs": [],
   "source": [
    "poly_features = PolynomialFeatures(3)\n",
    "X_train_poly = poly_features.fit_transform(X_train)\n",
    "\n",
    "# Create and fit the quadratic regression model\n",
    "quadratic_model = make_pipeline(PolynomialFeatures(3), LinearRegression())\n",
    "quadratic_model.fit(X_train, y_train)\n",
    "\n",
    "predictions = quadratic_model.predict(X_test).tolist()\n",
    "time_column =data_test.index.tolist()\n",
    "\n",
    "# Plotting the actual values\n",
    "plt.figure(figsize=(10, 6))\n",
    "plt.plot(time_column, y_test, label='Actual', marker='o')\n",
    "\n",
    "# Plotting the predicted values\n",
    "plt.plot(time_column, predictions, label='Predicted', marker='x')\n",
    "\n",
    "\n",
    "train_mse = mean_squared_error(y_test, predictions)\n",
    "print(f\"Training MSE for cubic polynomial: {train_mse}\")\n",
    "plt.show()"
   ]
  },
  {
   "cell_type": "code",
   "execution_count": null,
   "metadata": {},
   "outputs": [],
   "source": [
    "poly_features = PolynomialFeatures(4)\n",
    "X_train_poly = poly_features.fit_transform(X_train)\n",
    "\n",
    "# Create and fit the quadratic regression model\n",
    "quadratic_model = make_pipeline(PolynomialFeatures(4), LinearRegression())\n",
    "quadratic_model.fit(X_train, y_train)\n",
    "\n",
    "predictions = quadratic_model.predict(X_test).tolist()\n",
    "\n",
    "time_column =data_test.index.tolist()\n",
    "\n",
    "# Plotting the actual values\n",
    "plt.figure(figsize=(10, 6))\n",
    "plt.plot(time_column, y_test, label='Actual', marker='o')\n",
    "\n",
    "# Plotting the predicted values\n",
    "plt.plot(time_column, predictions, label='Predicted', marker='x')\n",
    "\n",
    "\n",
    "train_mse = mean_squared_error(y_test, predictions)\n",
    "print(f\"Training MSE for degree 4 polynomial: {train_mse}\")\n",
    "plt.show()"
   ]
  },
  {
   "cell_type": "code",
   "execution_count": null,
   "metadata": {},
   "outputs": [],
   "source": [
    "import pandas as pd\n",
    "import matplotlib.pyplot as plt\n",
    "\n",
    "data1 = pd.read_csv('../datasets/open_predicted_values.csv')\n",
    "time_column =data_test.index.tolist()\n",
    "plt.figure(figsize=(10, 6))\n",
    "plt.plot(time_column, data_test['Close'], label='Actual', marker='o')\n",
    "\n",
    "# Plotting the predicted values\n",
    "plt.plot(time_column, data1['close'], label='Predicted', marker='x')"
   ]
  }
 ],
 "metadata": {
  "kernelspec": {
   "display_name": "Python 3.11.0 64-bit",
   "language": "python",
   "name": "python311064bite3dd30ed50dd442999218d3f71601056"
  },
  "language_info": {
   "codemirror_mode": {
    "name": "ipython",
    "version": 3
   },
   "file_extension": ".py",
   "mimetype": "text/x-python",
   "name": "python",
   "nbconvert_exporter": "python",
   "pygments_lexer": "ipython3",
   "version": "3.11.0"
  }
 },
 "nbformat": 4,
 "nbformat_minor": 2
}
