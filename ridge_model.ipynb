{
 "cells": [
  {
   "cell_type": "code",
   "execution_count": null,
   "metadata": {},
   "outputs": [],
   "source": [
    "import pandas as pd\n",
    "from sklearn.model_selection import train_test_split\n",
    "from sklearn.linear_model import Ridge\n",
    "import numpy as np\n",
    "import matplotlib.pyplot as plt\n",
    "\n",
    "# Load the dataset using pandas\n",
    "data = pd.read_csv('btc_historical_data.csv')\n",
    "\n",
    "# Display the first few rows of the dataset for inspection\n",
    "print(\"First few rows of the dataset:\")\n",
    "print(data.head())"
   ]
  },
  {
   "cell_type": "code",
   "execution_count": null,
   "metadata": {},
   "outputs": [],
   "source": [
    "X_features = ['open', 'high', 'low', 'volumeto']\n",
    "target_column = 'close'\n",
    "\n",
    "# Extract features (X_train) and target (y_train)\n",
    "X_train = data[X_features]\n",
    "y_train = data[target_column]\n",
    "\n",
    "# Split the data into training and testing sets\n",
    "X_train, X_test, y_train, y_test = train_test_split(X_train, y_train, test_size=0.2, random_state=42)\n",
    "\n",
    "# Display the shape of the training and testing sets\n",
    "print(\"\\nShape of X_train:\", X_train.shape)\n",
    "print(\"Shape of X_test:\", X_test.shape)\n",
    "print(\"Shape of y_train:\", y_train.shape)\n",
    "print(\"Shape of y_test:\", y_test.shape)"
   ]
  },
  {
   "cell_type": "code",
   "execution_count": null,
   "metadata": {},
   "outputs": [],
   "source": [
    "fig, axs = plt.subplots(2, 2, figsize=(12, 8))\n",
    "\n",
    "axs[0, 0].scatter(X_train['open'], y_train)\n",
    "axs[0, 0].set_title('Open vs Close')\n",
    "\n",
    "axs[0, 1].scatter(X_train['high'], y_train)\n",
    "axs[0, 1].set_title('High vs Close')\n",
    "\n",
    "axs[1, 0].scatter(X_train['low'], y_train)\n",
    "axs[1, 0].set_title('Low vs Close')\n",
    "\n",
    "axs[1, 1].scatter(X_train['volumeto'], y_train)\n",
    "axs[1, 1].set_title('Volumeto vs Close')\n",
    "\n",
    "plt.tight_layout()\n",
    "plt.show()"
   ]
  },
  {
   "cell_type": "code",
   "execution_count": null,
   "metadata": {},
   "outputs": [],
   "source": [
    "# Change the alpha value to see how the model fits the data\n",
    "alpha = 1\n",
    "ridge_model = Ridge(alpha=alpha)\n",
    "ridge_model.fit(X_train, y_train)\n",
    "w_ridge = ridge_model.coef_\n",
    "b_ridge = ridge_model.intercept_\n",
    "print(f\"Ridge Regression - w = {w_ridge}, b = {b_ridge}\")"
   ]
  },
  {
   "cell_type": "code",
   "execution_count": null,
   "metadata": {},
   "outputs": [],
   "source": [
    "# Replace the values below with the values you want to predict\n",
    "new_data_point = np.array([37908.44,38769.81,36660.7,1310842543.43]).reshape(1, -1)\n",
    "predicted_close = ridge_model.predict(new_data_point)[0]\n",
    "print(f\"Ridge Regression - Predicted closing value for the provided parameters: {predicted_close}\")"
   ]
  },
  {
   "cell_type": "code",
   "execution_count": null,
   "metadata": {},
   "outputs": [],
   "source": [
    "predictions_ridge_train = ridge_model.predict(X_train)\n",
    "print(f\"Ridge Regression - Prediction on training set:\\n {predictions_ridge_train[:5]}\")"
   ]
  },
  {
   "cell_type": "code",
   "execution_count": null,
   "metadata": {},
   "outputs": [],
   "source": [
    "fig, axs = plt.subplots(2, 2, figsize=(12, 8))\n",
    "\n",
    "axs[0, 0].scatter(X_train['open'], y_train, label='Actual')\n",
    "axs[0, 0].scatter(X_train['open'], predictions_ridge_train, label='Predicted (Ridge)')\n",
    "axs[0, 0].set_title('Open vs Close')\n",
    "axs[0, 0].legend()\n",
    "\n",
    "axs[0, 1].scatter(X_train['high'], y_train, label='Actual')\n",
    "axs[0, 1].scatter(X_train['high'], predictions_ridge_train, label='Predicted (Ridge)')\n",
    "axs[0, 1].set_title('High vs Close')\n",
    "axs[0, 1].legend()\n",
    "\n",
    "axs[1, 0].scatter(X_train['low'], y_train, label='Actual')\n",
    "axs[1, 0].scatter(X_train['low'], predictions_ridge_train, label='Predicted (Ridge)')\n",
    "axs[1, 0].set_title('Low vs Close')\n",
    "axs[1, 0].legend()\n",
    "\n",
    "axs[1, 1].scatter(X_train['volumeto'], y_train, label='Actual')\n",
    "axs[1, 1].scatter(X_train['volumeto'], predictions_ridge_train, label='Predicted (Ridge)')\n",
    "axs[1, 1].set_title('Volumeto vs Close')\n",
    "axs[1, 1].legend()\n",
    "\n",
    "plt.tight_layout()\n",
    "plt.show()"
   ]
  }
 ],
 "metadata": {
  "kernelspec": {
   "display_name": "Python 3.11.0 64-bit",
   "language": "python",
   "name": "python311064bite3dd30ed50dd442999218d3f71601056"
  },
  "language_info": {
   "codemirror_mode": {
    "name": "ipython",
    "version": 3
   },
   "file_extension": ".py",
   "mimetype": "text/x-python",
   "name": "python",
   "nbconvert_exporter": "python",
   "pygments_lexer": "ipython3",
   "version": "3.11.0"
  }
 },
 "nbformat": 4,
 "nbformat_minor": 2
}
