{
 "cells": [
  {
   "cell_type": "code",
   "execution_count": null,
   "metadata": {},
   "outputs": [],
   "source": [
    "import pandas as pd\n",
    "from sklearn.model_selection import train_test_split\n",
    "from sklearn.linear_model import LinearRegression\n",
    "import numpy as np\n",
    "import matplotlib.pyplot as plt\n",
    "\n",
    "# Load the dataset using pandas\n",
    "data = pd.read_csv('btc_historical_data.csv')\n",
    "\n",
    "# Display the first few rows of the dataset for inspection\n",
    "print(\"First few rows of the dataset:\")\n",
    "print(data.head())\n"
   ]
  },
  {
   "cell_type": "code",
   "execution_count": null,
   "metadata": {},
   "outputs": [],
   "source": [
    "X_features = ['open']\n",
    "target_column = 'high'\n",
    "open_value_start = 36702.79\n",
    "\n",
    "# Extract features (X_train) and target (y_train)\n",
    "X_train = data[X_features]\n",
    "y_train = data[target_column]\n",
    "\n",
    "# Split the data into training and testing sets\n",
    "X_train, X_test, y_train, y_test = train_test_split(X_train, y_train, test_size=1, random_state=42)\n"
   ]
  },
  {
   "cell_type": "code",
   "execution_count": null,
   "metadata": {},
   "outputs": [],
   "source": [
    "linear_model = LinearRegression()\n",
    "linear_model.fit(X_train, y_train) "
   ]
  },
  {
   "cell_type": "code",
   "execution_count": null,
   "metadata": {},
   "outputs": [],
   "source": [
    "b = linear_model.intercept_\n",
    "w = linear_model.coef_\n",
    "print(f\"w = {w}, b = {b}\")"
   ]
  },
  {
   "cell_type": "code",
   "execution_count": null,
   "metadata": {},
   "outputs": [],
   "source": [
    "x_house = np.array([open_value_start]).reshape(-1,1)\n",
    "high_predict = linear_model.predict(x_house)[0]\n",
    "print(f\" predicted high value = {high_predict}\")"
   ]
  },
  {
   "cell_type": "code",
   "execution_count": null,
   "metadata": {},
   "outputs": [],
   "source": [
    "X_features = ['open','high']\n",
    "target_column = 'low'\n",
    "\n",
    "# Extract features (X_train) and target (y_train)\n",
    "X_train_2 = data[X_features]\n",
    "y_train_2 = data[target_column]\n",
    "\n",
    "# Split the data into training and testing sets\n",
    "X_train_2, X_test_2, y_train_2, y_test_2 = train_test_split(X_train_2, y_train_2, test_size=1, random_state=42)\n"
   ]
  },
  {
   "cell_type": "code",
   "execution_count": null,
   "metadata": {},
   "outputs": [],
   "source": [
    "linear_model2 = LinearRegression()\n",
    "linear_model2 .fit(X_train_2, y_train_2) "
   ]
  },
  {
   "cell_type": "code",
   "execution_count": null,
   "metadata": {},
   "outputs": [],
   "source": [
    "b = linear_model2.intercept_\n",
    "w = linear_model2.coef_\n",
    "print(f\"w = {w}, b = {b}\")"
   ]
  },
  {
   "cell_type": "code",
   "execution_count": null,
   "metadata": {},
   "outputs": [],
   "source": [
    "values_2 = np.array([open_value_start,high_predict]).reshape(-1,2)\n",
    "low_predict= linear_model2.predict(values_2)[0]\n",
    "print(f\" predicted low value = {low_predict}\")"
   ]
  },
  {
   "cell_type": "code",
   "execution_count": null,
   "metadata": {},
   "outputs": [],
   "source": [
    "X_features = ['open','high','low']\n",
    "target_column = 'close'\n",
    "\n",
    "# Extract features (X_train) and target (y_train)\n",
    "X_train_3 = data[X_features]\n",
    "y_train_3 = data[target_column]\n",
    "\n",
    "# Split the data into training and testing sets\n",
    "X_train_3, X_test_3, y_train_3, y_test_3 = train_test_split(X_train_3, y_train_3, test_size=1, random_state=42)\n"
   ]
  },
  {
   "cell_type": "code",
   "execution_count": null,
   "metadata": {},
   "outputs": [],
   "source": [
    "linear_model_3 = LinearRegression()\n",
    "linear_model_3.fit(X_train_3, y_train_3) "
   ]
  },
  {
   "cell_type": "code",
   "execution_count": null,
   "metadata": {},
   "outputs": [],
   "source": [
    "b = linear_model_3.intercept_\n",
    "w = linear_model_3.coef_\n",
    "print(f\"w = {w}, b = {b}\")"
   ]
  },
  {
   "cell_type": "code",
   "execution_count": null,
   "metadata": {},
   "outputs": [],
   "source": [
    "\n",
    "values_3 = np.array([open_value_start,high_predict,low_predict]).reshape(-1,3)\n",
    "close_predict= linear_model_3.predict(values_3)[0]\n",
    "\n",
    "print(f\" Opening value = {open_value_start}\")\n",
    "print(f\" predicted high value = {high_predict}\")\n",
    "print(f\" predicted low value = {low_predict}\")\n",
    "print(f\" predicted close value = {close_predict}\")"
   ]
  }
 ],
 "metadata": {
  "kernelspec": {
   "display_name": "Python 3.11.0 64-bit",
   "language": "python",
   "name": "python311064bite3dd30ed50dd442999218d3f71601056"
  },
  "language_info": {
   "codemirror_mode": {
    "name": "ipython",
    "version": 3
   },
   "file_extension": ".py",
   "mimetype": "text/x-python",
   "name": "python",
   "nbconvert_exporter": "python",
   "pygments_lexer": "ipython3",
   "version": "3.11.0"
  }
 },
 "nbformat": 4,
 "nbformat_minor": 2
}
